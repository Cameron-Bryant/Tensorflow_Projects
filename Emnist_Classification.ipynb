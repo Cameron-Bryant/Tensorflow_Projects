{
  "nbformat": 4,
  "nbformat_minor": 0,
  "metadata": {
    "colab": {
      "name": "Emnist_Classification.ipynb",
      "provenance": []
    },
    "kernelspec": {
      "name": "python3",
      "display_name": "Python 3"
    },
    "language_info": {
      "name": "python"
    },
    "accelerator": "GPU"
  },
  "cells": [
    {
      "cell_type": "code",
      "execution_count": 1,
      "metadata": {
        "colab": {
          "base_uri": "https://localhost:8080/"
        },
        "id": "RTnh5HXqQORp",
        "outputId": "baa8fd79-3ca4-4343-b046-76446cf0a4cb"
      },
      "outputs": [
        {
          "output_type": "stream",
          "name": "stdout",
          "text": [
            "Collecting emnist\n",
            "  Downloading emnist-0.0-py3-none-any.whl (7.3 kB)\n",
            "Requirement already satisfied: requests in /usr/local/lib/python3.7/dist-packages (from emnist) (2.23.0)\n",
            "Requirement already satisfied: numpy in /usr/local/lib/python3.7/dist-packages (from emnist) (1.19.5)\n",
            "Requirement already satisfied: tqdm in /usr/local/lib/python3.7/dist-packages (from emnist) (4.62.3)\n",
            "Requirement already satisfied: chardet<4,>=3.0.2 in /usr/local/lib/python3.7/dist-packages (from requests->emnist) (3.0.4)\n",
            "Requirement already satisfied: urllib3!=1.25.0,!=1.25.1,<1.26,>=1.21.1 in /usr/local/lib/python3.7/dist-packages (from requests->emnist) (1.24.3)\n",
            "Requirement already satisfied: idna<3,>=2.5 in /usr/local/lib/python3.7/dist-packages (from requests->emnist) (2.10)\n",
            "Requirement already satisfied: certifi>=2017.4.17 in /usr/local/lib/python3.7/dist-packages (from requests->emnist) (2021.10.8)\n",
            "Installing collected packages: emnist\n",
            "Successfully installed emnist-0.0\n"
          ]
        }
      ],
      "source": [
        "!pip install emnist\n",
        "import emnist\n",
        "import tensorflow as tf\n",
        "import numpy as np\n",
        "import matplotlib.pyplot as plt\n"
      ]
    },
    {
      "cell_type": "code",
      "source": [
        "x_train, y_train = emnist.extract_training_samples('letters')\n",
        "x_test, y_test = emnist.extract_test_samples('letters')"
      ],
      "metadata": {
        "id": "FsJZE8QuRI5z",
        "colab": {
          "base_uri": "https://localhost:8080/"
        },
        "outputId": "2c259e75-3a22-4a5b-fdd6-45450683b593"
      },
      "execution_count": 2,
      "outputs": [
        {
          "output_type": "stream",
          "name": "stderr",
          "text": [
            "Downloading emnist.zip: 536MB [00:05, 94.6MB/s]\n"
          ]
        }
      ]
    },
    {
      "cell_type": "code",
      "source": [
        "#float it\n",
        "x_train = x_train.astype('float32')\n",
        "x_test = x_test.astype('float32')\n",
        "#normalize\n",
        "x_train, x_test = x_train / 255.0, x_test / 255.0"
      ],
      "metadata": {
        "id": "DIOvd2kxRuOJ"
      },
      "execution_count": 3,
      "outputs": []
    },
    {
      "cell_type": "markdown",
      "source": [
        "I started with only one vgg1 block and got 92.33 percent test accuracy after 10 epochs, then went on to four vgg blocks with Batch Normalization and Dropout. This achieved 94.81 percent test accuracy after 10 epochs. All these values vary slightly with initialization. I wanted to see the metrics over a longer period, so I trained it over 100 epoch. Of course, there were signs of overfitting on the loss curve and the validation accuracy stabilizes and plateaus around 20 to 40 epochs.\n",
        "\n",
        "These results didn't suprise me that much. The emnist dataset is just like mnist, just with letters. So it is pretty simple to classify, especially with a cnn of this caliber. Im sure that if I optimized the number of fully connected neurons and other parameters in the model it could achieve higher accuracy. "
      ],
      "metadata": {
        "id": "mRgbf7mighCS"
      }
    },
    {
      "cell_type": "code",
      "source": [
        "model = tf.keras.models.Sequential([\n",
        "  tf.keras.layers.Conv2D(32, (3, 3), input_shape = (28, 28, 1), kernel_initializer='he_uniform', activation='relu', padding='same'),\n",
        "  tf.keras.layers.BatchNormalization(),\n",
        "  tf.keras.layers.Conv2D(32, (3, 3), kernel_initializer='he_uniform', activation='relu', padding='same'),\n",
        "  tf.keras.layers.BatchNormalization(),\n",
        "  tf.keras.layers.MaxPool2D((2, 2)),\n",
        "  tf.keras.layers.Dropout(0.2),\n",
        "\n",
        "  tf.keras.layers.Conv2D(32, (3, 3), kernel_initializer='he_uniform', activation='relu', padding='same'),\n",
        "  tf.keras.layers.BatchNormalization(),\n",
        "  tf.keras.layers.Conv2D(32, (3, 3), kernel_initializer='he_uniform', activation='relu', padding='same'),\n",
        "  tf.keras.layers.BatchNormalization(),\n",
        "  tf.keras.layers.MaxPool2D((2, 2)),\n",
        "  tf.keras.layers.Dropout(0.2),\n",
        "  \n",
        "  tf.keras.layers.Conv2D(64, (3, 3), kernel_initializer='he_uniform', activation='relu', padding='same'),\n",
        "  tf.keras.layers.BatchNormalization(),\n",
        "  tf.keras.layers.Conv2D(64, (3, 3), kernel_initializer='he_uniform', activation='relu', padding='same'),\n",
        "  tf.keras.layers.BatchNormalization(),\n",
        "  tf.keras.layers.MaxPool2D((2, 2)),\n",
        "  tf.keras.layers.Dropout(0.2),\n",
        "  \n",
        "  tf.keras.layers.Conv2D(128, (3, 3), kernel_initializer='he_uniform', activation='relu', padding='same'),\n",
        "  tf.keras.layers.BatchNormalization(),\n",
        "  tf.keras.layers.Conv2D(128, (3, 3), kernel_initializer='he_uniform', activation='relu', padding='same'),\n",
        "  tf.keras.layers.BatchNormalization(),\n",
        "  tf.keras.layers.MaxPool2D((2, 2)),\n",
        "  tf.keras.layers.Dropout(0.2),\n",
        "  \n",
        "\n",
        "  tf.keras.layers.Flatten(),\n",
        "  tf.keras.layers.Dense(300, activation='relu', kernel_initializer='he_uniform'),\n",
        "  tf.keras.layers.BatchNormalization(),\n",
        "  tf.keras.layers.Dropout(.2),\n",
        "  tf.keras.layers.Dense(27, activation='softmax') \n",
        "])\n",
        "optim = tf.keras.optimizers.SGD(learning_rate=0.01, momentum=0.9) \n",
        "model.compile(optimizer = optim, loss = 'sparse_categorical_crossentropy', metrics = ['accuracy'])\n",
        "#sparse categorical crossentropy allows us to use integeras "
      ],
      "metadata": {
        "id": "r1Wg9XGBSmpV"
      },
      "execution_count": 33,
      "outputs": []
    },
    {
      "cell_type": "code",
      "source": [
        "history = model.fit(x_train, y_train, epochs=10, validation_split=0.2)"
      ],
      "metadata": {
        "id": "jX9YCQVcTl75",
        "colab": {
          "base_uri": "https://localhost:8080/"
        },
        "outputId": "f50a949c-769a-4e33-d2b6-614232407aff"
      },
      "execution_count": 34,
      "outputs": [
        {
          "output_type": "stream",
          "name": "stdout",
          "text": [
            "Epoch 1/10\n",
            "3120/3120 [==============================] - 26s 8ms/step - loss: 0.5466 - accuracy: 0.8300 - val_loss: 0.2136 - val_accuracy: 0.9296\n",
            "Epoch 2/10\n",
            "3120/3120 [==============================] - 24s 8ms/step - loss: 0.2781 - accuracy: 0.9081 - val_loss: 0.1997 - val_accuracy: 0.9329\n",
            "Epoch 3/10\n",
            "3120/3120 [==============================] - 24s 8ms/step - loss: 0.2344 - accuracy: 0.9218 - val_loss: 0.1698 - val_accuracy: 0.9415\n",
            "Epoch 4/10\n",
            "3120/3120 [==============================] - 23s 7ms/step - loss: 0.2080 - accuracy: 0.9292 - val_loss: 0.1822 - val_accuracy: 0.9388\n",
            "Epoch 5/10\n",
            "3120/3120 [==============================] - 23s 7ms/step - loss: 0.1937 - accuracy: 0.9338 - val_loss: 0.1666 - val_accuracy: 0.9443\n",
            "Epoch 6/10\n",
            "3120/3120 [==============================] - 23s 7ms/step - loss: 0.1817 - accuracy: 0.9368 - val_loss: 0.1596 - val_accuracy: 0.9462\n",
            "Epoch 7/10\n",
            "3120/3120 [==============================] - 23s 7ms/step - loss: 0.1726 - accuracy: 0.9391 - val_loss: 0.1646 - val_accuracy: 0.9429\n",
            "Epoch 8/10\n",
            "3120/3120 [==============================] - 23s 7ms/step - loss: 0.1624 - accuracy: 0.9423 - val_loss: 0.1553 - val_accuracy: 0.9464\n",
            "Epoch 9/10\n",
            "3120/3120 [==============================] - 23s 8ms/step - loss: 0.1589 - accuracy: 0.9442 - val_loss: 0.1495 - val_accuracy: 0.9496\n",
            "Epoch 10/10\n",
            "3120/3120 [==============================] - 23s 7ms/step - loss: 0.1520 - accuracy: 0.9466 - val_loss: 0.1532 - val_accuracy: 0.9483\n"
          ]
        }
      ]
    },
    {
      "cell_type": "code",
      "source": [
        "plt.plot(history.history['accuracy'])\n",
        "plt.plot(history.history['val_accuracy'])\n",
        "plt.show()"
      ],
      "metadata": {
        "colab": {
          "base_uri": "https://localhost:8080/",
          "height": 265
        },
        "id": "bYxb4E5AQrmv",
        "outputId": "16c22ee9-4213-40ca-9b65-8e93fd932c90"
      },
      "execution_count": 35,
      "outputs": [
        {
          "output_type": "display_data",
          "data": {
            "image/png": "[encoded data removed]",
            "text/plain": [
              "<Figure size 432x288 with 1 Axes>"
            ]
          },
          "metadata": {
            "needs_background": "light"
          }
        }
      ]
    },
    {
      "cell_type": "code",
      "source": [
        "plt.plot(history.history['loss'])\n",
        "plt.plot(history.history['val_loss'])\n",
        "plt.show()"
      ],
      "metadata": {
        "colab": {
          "base_uri": "https://localhost:8080/",
          "height": 265
        },
        "id": "AmWMeCefQ6sX",
        "outputId": "49fcae49-3f73-493b-bf35-0d5f946f0b0f"
      },
      "execution_count": 36,
      "outputs": [
        {
          "output_type": "display_data",
          "data": {
            "image/png": "[encoded data removed]",
            "text/plain": [
              "<Figure size 432x288 with 1 Axes>"
            ]
          },
          "metadata": {
            "needs_background": "light"
          }
        }
      ]
    },
    {
      "cell_type": "code",
      "source": [
        "model.evaluate(x_test, y_test)"
      ],
      "metadata": {
        "colab": {
          "base_uri": "https://localhost:8080/"
        },
        "id": "6nVBN--sSE9R",
        "outputId": "402a7200-f7d2-434a-ccc8-dcff74cadc18"
      },
      "execution_count": 37,
      "outputs": [
        {
          "output_type": "stream",
          "name": "stdout",
          "text": [
            "650/650 [==============================] - 2s 3ms/step - loss: 0.1600 - accuracy: 0.9470\n"
          ]
        },
        {
          "output_type": "execute_result",
          "data": {
            "text/plain": [
              "[0.16000248491764069, 0.9470192193984985]"
            ]
          },
          "metadata": {},
          "execution_count": 37
        }
      ]
    }
  ]
}
